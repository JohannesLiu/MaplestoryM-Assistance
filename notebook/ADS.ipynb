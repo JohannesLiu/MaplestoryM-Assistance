{
 "cells": [
  {
   "cell_type": "code",
   "execution_count": 42,
   "metadata": {
    "collapsed": true
   },
   "outputs": [],
   "source": [
    "import cv2\n",
    "import glob\n",
    "import numpy as np\n",
    "import numpy\n",
    "import os\n",
    "import matplotlib.pyplot as plt\n",
    "\n",
    "from win32gui import GetWindowText, GetForegroundWindow, GetWindowRect, FindWindow\n",
    "import pyscreenshot as ImageGrab\n",
    "import time\n",
    "import os\n",
    "from IPython.display import display, clear_output\n",
    "import datetime\n",
    "from KartriderKit.Utils.location import locateOnPicture, locateCenterOnPicture\n",
    "'''\n",
    "# if the foreground window is as the same as desired_window, then this script will capture your current screen and check current scenario.\n",
    "# which is faster than capture screenshot using Nox.\n",
    "'''\n",
    "WORKPATH = \"D:/GameProjects/Kartrider/SmartKartRider\"\n",
    "desired_window = \"BlueStacks App Player\"\n",
    "adb_port = 51079\n",
    "os.chdir(WORKPATH)"
   ]
  },
  {
   "cell_type": "code",
   "execution_count": 22,
   "outputs": [],
   "source": [
    "target_size = (1280,720)\n",
    "model_input_shape = (299,299)\n",
    "first_classes = ['dialog', 'loading', 'others', 'reward']\n",
    "second_classes = ['idle', 'inQuest']"
   ],
   "metadata": {
    "collapsed": false
   }
  },
  {
   "cell_type": "code",
   "execution_count": 24,
   "outputs": [
    {
     "name": "stdout",
     "output_type": "stream",
     "text": [
      "List of devices attached\n",
      "127.0.0.1:51079\tdevice\n",
      "127.0.0.1:65532\toffline\n",
      "\n",
      "\n",
      "already connected to 127.0.0.1:51079\n",
      "\n"
     ]
    }
   ],
   "source": [
    "# The Nox install path\n",
    "\n",
    "'''\n",
    "The simulator default port, if you using multiple simulator, you should change the port.\n",
    "You can check your port number use : os.popen('adb devices').read()\n",
    "'''\n",
    "print(os.popen('adb devices').read())\n",
    "connect = os.popen(\"adb connect 127.0.0.1:\" + str(adb_port)).read()\n",
    "print(connect)"
   ],
   "metadata": {
    "collapsed": false
   }
  },
  {
   "cell_type": "code",
   "execution_count": 25,
   "outputs": [],
   "source": [
    "def read_and_resize(path,target_size):\n",
    "    return cv2.resize(cv2.imread(path),target_size)/255\n",
    "\n",
    "def crop_img(inputImg, scenario,model_input_shape):\n",
    "    if scenario == 'reward':\n",
    "        return inputImg[:,335:940]\n",
    "    elif scenario == 'dialog':\n",
    "        return inputImg[460:,]\n",
    "    elif scenario == 'questArrow':\n",
    "        return inputImg[460:,]\n",
    "    elif scenario == 'autoIcon':\n",
    "        icon = inputImg[632:698,351:416]\n",
    "        icon = cv2.resize(icon,model_input_shape)\n",
    "        return icon"
   ],
   "metadata": {
    "collapsed": false
   }
  },
  {
   "cell_type": "code",
   "execution_count": 35,
   "outputs": [
    {
     "data": {
      "text/plain": "array([[[51, 50, 49],\n        [51, 50, 49],\n        [51, 50, 49],\n        ...,\n        [26, 14, 10],\n        [26, 14, 10],\n        [26, 14, 10]],\n\n       [[51, 50, 50],\n        [51, 50, 50],\n        [51, 50, 50],\n        ...,\n        [26, 14, 10],\n        [26, 14, 10],\n        [26, 14, 10]],\n\n       [[51, 50, 50],\n        [51, 50, 50],\n        [51, 50, 50],\n        ...,\n        [26, 14, 10],\n        [26, 14, 10],\n        [26, 14, 10]],\n\n       ...,\n\n       [[11,  7, 22],\n        [11,  7, 22],\n        [12,  7, 23],\n        ...,\n        [12,  7, 11],\n        [12,  7, 11],\n        [12,  7, 11]],\n\n       [[11,  7, 21],\n        [11,  7, 22],\n        [11,  7, 22],\n        ...,\n        [12,  7, 11],\n        [12,  7, 11],\n        [12,  7, 11]],\n\n       [[11,  7, 21],\n        [11,  7, 21],\n        [11,  7, 22],\n        ...,\n        [12,  7, 11],\n        [12,  7, 11],\n        [12,  7, 11]]], dtype=uint8)"
     },
     "execution_count": 35,
     "metadata": {},
     "output_type": "execute_result"
    }
   ],
   "source": [
    "os.system('adb shell screencap -p /sdcard/screenshot.png')\n",
    "os.system('adb pull /sdcard/screenshot.png ./screenshot.png')\n",
    "im = cv2.imread('./screenshot.png')\n",
    "im"
   ],
   "metadata": {
    "collapsed": false
   }
  },
  {
   "cell_type": "code",
   "execution_count": 44,
   "outputs": [
    {
     "data": {
      "text/plain": "Point(x=1254, y=24)"
     },
     "execution_count": 44,
     "metadata": {},
     "output_type": "execute_result"
    }
   ],
   "source": [
    "im = cv2.imread('./screenshot.png')\n",
    "image = cv2.imread(\"D:/GameProjects/Kartrider/SmartKartRider/raw_data/US/Button/Close-Window.PNG\")\n",
    "retVal = locateCenterOnPicture(image, im)\n",
    "retVal"
   ],
   "metadata": {
    "collapsed": false
   }
  },
  {
   "cell_type": "code",
   "execution_count": null,
   "outputs": [],
   "source": [
    "run_count = 0\n",
    "while True:\n",
    "    clear_output(wait=True)\n",
    "    run_count += 1\n",
    "    print(f\"Current round count:{run_count}\")\n",
    "    if run_count%500==0:\n",
    "        #restart adb server and connection after a while\n",
    "        os.system(\"adb shell kill-server\")\n",
    "        os.system(\"adb shell start-server\")\n",
    "        os.popen(\"adb connect 127.0.0.1:\" + str(adb_port))\n",
    "    print(datetime.datetime.now())\n",
    "    s = time.time()\n",
    "    current_window = GetWindowText(GetForegroundWindow())\n",
    "\n",
    "    # If current_window is not as desired_window `夜神模擬器`, capture screen use adb tools\n",
    "    if current_window != desired_window:\n",
    "        try:\n",
    "            print(\"ForegroundWindow not BlueStacks, adb screencap is using.\")\n",
    "            os.system('adb shell screencap -p /sdcard/screenshot.png')\n",
    "            os.system('adb pull /sdcard/screenshot.png ./screenshot.png')\n",
    "            im = cv2.imread('./screenshot.png')\n",
    "            os.system('adb shell rm /sdcard/screenshot.png')\n",
    "            os.remove('./screenshot.png')\n",
    "        except:\n",
    "            print(\"Restart adb service\")\n",
    "            os.system(\"adb shell kill-server\")\n",
    "            os.system(\"adb shell start-server\")\n",
    "            os.popen(\"adb connect 127.0.0.1:\" + str(adb_port))\n",
    "            continue\n",
    "    else:\n",
    "        rect = GetWindowRect(FindWindow(None, desired_window))\n",
    "        im = ImageGrab.grab(bbox=(rect[0],rect[1]+35,rect[2],rect[3]))\n",
    "        im = np.array(im)\n",
    "    im = cv2.resize(im,target_size)/255\n",
    "    current_scenario = check_scenario(im)\n",
    "    print(f\"Computing time : {round(time.time() - s,3)} second.\")\n",
    "    exit"
   ],
   "metadata": {
    "collapsed": false
   }
  },
  {
   "cell_type": "code",
   "execution_count": null,
   "outputs": [],
   "source": [
    "    if current_scenario == 'dialog':\n",
    "        print(\"dialog\")\n",
    "        os.system(\"adb shell input tap 515 682\")\n",
    "        os.system(\"adb shell input tap 1377 521\")\n",
    "        time.sleep(2)\n",
    "    elif current_scenario == 'reward':\n",
    "        print(\"reward\")\n",
    "        os.system(\"adb shell input tap 795 795\")\n",
    "        time.sleep(2)\n",
    "    elif current_scenario == 'idle':\n",
    "        print(\"idle\")\n",
    "        os.system(\"adb shell input tap 134 294\")\n",
    "        time.sleep(2)\n",
    "    elif current_scenario == 'inQuest':\n",
    "        time.sleep(10)\n",
    "    else:\n",
    "        time.sleep(2)\n"
   ],
   "metadata": {
    "collapsed": false
   }
  },
  {
   "cell_type": "markdown",
   "source": [
    "## begin game"
   ],
   "metadata": {
    "collapsed": false
   }
  },
  {
   "cell_type": "code",
   "execution_count": 26,
   "outputs": [
    {
     "data": {
      "text/plain": "0"
     },
     "execution_count": 26,
     "metadata": {},
     "output_type": "execute_result"
    }
   ],
   "source": [
    "# os.system(\"adb shell input tap 640 640\") ## begin\n",
    "# os.system(\"adb shell input tap 1256 25\") ## Close sub window"
   ],
   "metadata": {
    "collapsed": false
   }
  },
  {
   "cell_type": "code",
   "execution_count": null,
   "outputs": [],
   "source": [
    "##s"
   ],
   "metadata": {
    "collapsed": false
   }
  }
 ],
 "metadata": {
  "kernelspec": {
   "display_name": "Python 3",
   "language": "python",
   "name": "python3"
  },
  "language_info": {
   "codemirror_mode": {
    "name": "ipython",
    "version": 2
   },
   "file_extension": ".py",
   "mimetype": "text/x-python",
   "name": "python",
   "nbconvert_exporter": "python",
   "pygments_lexer": "ipython2",
   "version": "2.7.6"
  }
 },
 "nbformat": 4,
 "nbformat_minor": 0
}
