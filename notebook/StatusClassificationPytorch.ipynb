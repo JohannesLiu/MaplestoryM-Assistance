{
 "cells": [
  {
   "cell_type": "code",
   "execution_count": 18,
   "metadata": {
    "collapsed": true
   },
   "outputs": [],
   "source": [
    "from sklearn.model_selection import train_test_split\n",
    "import cv2\n",
    "import matplotlib.pyplot as plt\n",
    "import time\n",
    "import os\n",
    "from IPython.display import clear_output\n",
    "import datetime\n",
    "from MapleKit.Utils.location import locateOnPicture, locateCenterOnPicture, pixelMatchesColor\n",
    "import pytesseract\n",
    "from skimage.metrics import structural_similarity as compare_ssim\n",
    "from skimage.metrics import peak_signal_noise_ratio as compare_psnr\n",
    "# from keras.models import Modelwww\n",
    "# from keras.optimizers import Adam\n",
    "# from Keras.applications.inception_resnet_v2 import InceptionResNetV2p\n",
    "import glob\n",
    "# from autoPyTorch.pipeline.image_classification import ImageClassificationPipeline\n",
    "import numpy as np\n",
    "from sklearn.neural_network import MLPClassifier\n",
    "from sklearn import datasets\n",
    "import torch\n",
    "import torch.nn as nn\n",
    "import torch.nn.functional as F\n",
    "import torchvision\n",
    "import torchvision.transforms as transforms\n",
    "WORKPATH = \"C:/Users/Johan/Documents/PycharmProjects/MaplestoryM-Assistant\"\n",
    "desired_window = \"BlueStacks App Player\"\n",
    "adb_port = 11902\n",
    "os.chdir(WORKPATH)"
   ]
  },
  {
   "cell_type": "code",
   "execution_count": 19,
   "outputs": [],
   "source": [
    "digits = datasets.load_digits()"
   ],
   "metadata": {
    "collapsed": false
   }
  },
  {
   "cell_type": "code",
   "execution_count": 20,
   "outputs": [
    {
     "data": {
      "text/plain": "array([[ 0.,  0.,  5., ...,  0.,  0.,  0.],\n       [ 0.,  0.,  0., ..., 10.,  0.,  0.],\n       [ 0.,  0.,  0., ..., 16.,  9.,  0.],\n       ...,\n       [ 0.,  0.,  1., ...,  6.,  0.,  0.],\n       [ 0.,  0.,  2., ..., 12.,  0.,  0.],\n       [ 0.,  0., 10., ..., 12.,  1.,  0.]])"
     },
     "execution_count": 20,
     "metadata": {},
     "output_type": "execute_result"
    }
   ],
   "source": [
    "digits.data\n"
   ],
   "metadata": {
    "collapsed": false
   }
  },
  {
   "cell_type": "code",
   "execution_count": 21,
   "outputs": [],
   "source": [
    "target_size = (60, 65)\n",
    "\n",
    "def read_and_resize(path, target_size):\n",
    "    return cv2.resize(cv2.imread(path), target_size)/255"
   ],
   "metadata": {
    "collapsed": false
   }
  },
  {
   "cell_type": "code",
   "execution_count": 57,
   "outputs": [],
   "source": [
    "# Execute Once\n",
    "AutoBattleStatusRawList = glob.glob(\"./raw_data/US/Status/raw_data/AutoBattle/*.png\")\n",
    "AutoQuestStatusRawList = glob.glob(\"./raw_data/US/Status/raw_data/AutoQuest/*.png\")\n",
    "\n",
    "for i in range(len(AutoBattleStatusRawList)):\n",
    "    img = cv2.imread(AutoBattleStatusRawList[i])\n",
    "    img = img[625:685, 390:455]\n",
    "    img = cv2.resize(img, target_size)\n",
    "    cv2.imwrite(\"./raw_data/US/Status/data/AutoBattle/\"+str(i)+\".png\", img)\n",
    "\n",
    "for i in range(len(AutoQuestStatusRawList)):\n",
    "    img = cv2.imread(AutoQuestStatusRawList[i])\n",
    "    img = img[625:685, 390:455]\n",
    "    img = cv2.resize(img, target_size)\n",
    "    cv2.imwrite(\"./raw_data/US/Status/data/AutoQuest/\"+str(i)+\".png\", img)"
   ],
   "metadata": {
    "collapsed": false
   }
  },
  {
   "cell_type": "code",
   "execution_count": 58,
   "outputs": [
    {
     "name": "stdout",
     "output_type": "stream",
     "text": [
      "Data Size: 26\n",
      "(26, 3, 60, 65)\n"
     ]
    }
   ],
   "source": [
    "img_path_list = glob.glob(\"./raw_data/US/status/data/*/*.*\", recursive=True)\n",
    "print(f\"Data Size: {len(img_path_list)}\")\n",
    "img_cls = [os.path.basename(os.path.dirname(i)) for i in img_path_list]\n",
    "classes = list(np.unique(img_cls))\n",
    "Y = np.zeros((len(img_cls), len(classes)))\n",
    "\n",
    "for r in range(len(img_cls)):\n",
    "    Y[r, classes.index(img_cls[r])] = 1\n",
    "\n",
    "X_img = []\n",
    "for i in img_path_list:\n",
    "    img = cv2.imread(i)\n",
    "    X_img.append(img)\n",
    "X_img = np.swapaxes(np.array(X_img), 1, 3)\n",
    "print(X_img.shape)"
   ],
   "metadata": {
    "collapsed": false
   }
  },
  {
   "cell_type": "code",
   "execution_count": 153,
   "outputs": [],
   "source": [
    "X_train, X_test, y_train, y_test = train_test_split(torch.FloatTensor(X_img), torch.LongTensor(Y), test_size=0.2, random_state=3)"
   ],
   "metadata": {
    "collapsed": false
   }
  },
  {
   "cell_type": "code",
   "execution_count": 73,
   "outputs": [],
   "source": [
    "from torch.utils.data import TensorDataset\n",
    "\n",
    "ds_train = TensorDataset(X_train,y_train)\n",
    "ds_test = TensorDataset(X_test, y_test)"
   ],
   "metadata": {
    "collapsed": false
   }
  },
  {
   "cell_type": "code",
   "execution_count": 103,
   "outputs": [],
   "source": [
    "trainloader = torch.utils.data.DataLoader(ds_train, batch_size=10, shuffle=True)\n",
    "testloader = torch.utils.data.DataLoader(ds_test, batch_size=10, shuffle=True)"
   ],
   "metadata": {
    "collapsed": false
   }
  },
  {
   "cell_type": "code",
   "execution_count": 143,
   "outputs": [],
   "source": [
    "class LeNet(nn.Module):\n",
    "    # 一般在__init__中定义网络需要的操作算子，比如卷积、全连接算子等等\n",
    "    def __init__(self):\n",
    "        super(LeNet, self).__init__()\n",
    "        # Conv2d的第一个参数是输入的channel数量，第二个是输出的channel数量，第三个是kernel size\n",
    "        self.conv1 = nn.Conv2d(3, 4, 3)\n",
    "        self.conv2 = nn.Conv2d(4, 5, 5)\n",
    "        # 由于上一层有16个channel输出，每个feature map大小为5*5，所以全连接层的输入是16*5*5\n",
    "        self.fc1 = nn.Linear(5*12*13, 100)\n",
    "        self.fc2 = nn.Linear(100, 16)\n",
    "        # 最终有10类，所以最后一个全连接层输出数量是10\n",
    "        self.fc3 = nn.Linear(16, 2)\n",
    "        self.pool = nn.MaxPool2d(2, 2)\n",
    "    # forward这个函数定义了前向传播的运算，只需要像写普通的python算数运算那样就可以了\n",
    "    def forward(self, x):\n",
    "        x = F.relu(self.conv1(x))\n",
    "        x = self.pool(x)\n",
    "        x = F.relu(self.conv2(x))\n",
    "        x = self.pool(x)\n",
    "        # print(x.shape)\n",
    "        # 下面这步把二维特征图变为一维，这样全连接层才能处理\n",
    "        x = x.view(-1, 5*12*13)\n",
    "        x = F.relu(self.fc1(x))\n",
    "        x = F.relu(self.fc2(x))\n",
    "        x = self.fc3(x)\n",
    "        return x\n",
    "net = LeNet()"
   ],
   "metadata": {
    "collapsed": false
   }
  },
  {
   "cell_type": "code",
   "execution_count": 144,
   "outputs": [],
   "source": [
    "import torch.optim as optim\n",
    "\n",
    "# CrossEntropyLoss就是我们需要的损失函数\n",
    "criterion = nn.CrossEntropyLoss()\n",
    "optimizer = optim.SGD(net.parameters(), lr=0.001, momentum=0.9)"
   ],
   "metadata": {
    "collapsed": false
   }
  },
  {
   "cell_type": "code",
   "execution_count": 149,
   "outputs": [
    {
     "name": "stdout",
     "output_type": "stream",
     "text": [
      "Start Training...\n",
      "[Epoch 1, Batch     1] loss: 0.000134341\n",
      "[Epoch 1, Batch     2] loss: 0.000149278\n",
      "[Epoch 2, Batch     1] loss: 0.000144847\n",
      "[Epoch 2, Batch     2] loss: 0.000141035\n",
      "[Epoch 3, Batch     1] loss: 0.000060994\n",
      "[Epoch 3, Batch     2] loss: 0.000219289\n",
      "[Epoch 4, Batch     1] loss: 0.000136483\n",
      "[Epoch 4, Batch     2] loss: 0.000145253\n",
      "[Epoch 5, Batch     1] loss: 0.000058743\n",
      "[Epoch 5, Batch     2] loss: 0.000217727\n",
      "[Epoch 6, Batch     1] loss: 0.000128193\n",
      "[Epoch 6, Batch     2] loss: 0.000146229\n",
      "[Epoch 7, Batch     1] loss: 0.000145954\n",
      "[Epoch 7, Batch     2] loss: 0.000126645\n",
      "[Epoch 8, Batch     1] loss: 0.000115028\n",
      "[Epoch 8, Batch     2] loss: 0.000157451\n",
      "[Epoch 9, Batch     1] loss: 0.000201634\n",
      "[Epoch 9, Batch     2] loss: 0.000067808\n",
      "[Epoch 10, Batch     1] loss: 0.000087369\n",
      "[Epoch 10, Batch     2] loss: 0.000180632\n",
      "[Epoch 11, Batch     1] loss: 0.000079506\n",
      "[Epoch 11, Batch     2] loss: 0.000186493\n",
      "[Epoch 12, Batch     1] loss: 0.000121843\n",
      "[Epoch 12, Batch     2] loss: 0.000142083\n",
      "[Epoch 13, Batch     1] loss: 0.000083914\n",
      "[Epoch 13, Batch     2] loss: 0.000178738\n",
      "[Epoch 14, Batch     1] loss: 0.000181275\n",
      "[Epoch 14, Batch     2] loss: 0.000080554\n",
      "[Epoch 15, Batch     1] loss: 0.000080936\n",
      "[Epoch 15, Batch     2] loss: 0.000179333\n",
      "[Epoch 16, Batch     1] loss: 0.000134649\n",
      "[Epoch 16, Batch     2] loss: 0.000126453\n",
      "[Epoch 17, Batch     1] loss: 0.000128083\n",
      "[Epoch 17, Batch     2] loss: 0.000131101\n",
      "[Epoch 18, Batch     1] loss: 0.000021492\n",
      "[Epoch 18, Batch     2] loss: 0.000232247\n",
      "[Epoch 19, Batch     1] loss: 0.000117888\n",
      "[Epoch 19, Batch     2] loss: 0.000134850\n",
      "[Epoch 20, Batch     1] loss: 0.000196295\n",
      "[Epoch 20, Batch     2] loss: 0.000055668\n",
      "[Epoch 21, Batch     1] loss: 0.000115267\n",
      "[Epoch 21, Batch     2] loss: 0.000134231\n",
      "[Epoch 22, Batch     1] loss: 0.000245362\n",
      "[Epoch 22, Batch     2] loss: 0.000002766\n",
      "[Epoch 23, Batch     1] loss: 0.000113253\n",
      "[Epoch 23, Batch     2] loss: 0.000133147\n",
      "[Epoch 24, Batch     1] loss: 0.000114016\n",
      "[Epoch 24, Batch     2] loss: 0.000130740\n",
      "[Epoch 25, Batch     1] loss: 0.000072225\n",
      "[Epoch 25, Batch     2] loss: 0.000172173\n",
      "[Epoch 26, Batch     1] loss: 0.000070521\n",
      "[Epoch 26, Batch     2] loss: 0.000172304\n",
      "[Epoch 27, Batch     1] loss: 0.000060553\n",
      "[Epoch 27, Batch     2] loss: 0.000180581\n",
      "[Epoch 28, Batch     1] loss: 0.000071475\n",
      "[Epoch 28, Batch     2] loss: 0.000168419\n",
      "[Epoch 29, Batch     1] loss: 0.000169719\n",
      "[Epoch 29, Batch     2] loss: 0.000069449\n",
      "[Epoch 30, Batch     1] loss: 0.000127571\n",
      "[Epoch 30, Batch     2] loss: 0.000108868\n",
      "[Epoch 31, Batch     1] loss: 0.000157649\n",
      "[Epoch 31, Batch     2] loss: 0.000077766\n",
      "[Epoch 32, Batch     1] loss: 0.000058611\n",
      "[Epoch 32, Batch     2] loss: 0.000175684\n",
      "[Epoch 33, Batch     1] loss: 0.000101184\n",
      "[Epoch 33, Batch     2] loss: 0.000133206\n",
      "[Epoch 34, Batch     1] loss: 0.000123734\n",
      "[Epoch 34, Batch     2] loss: 0.000107308\n",
      "[Epoch 35, Batch     1] loss: 0.000106342\n",
      "[Epoch 35, Batch     2] loss: 0.000123186\n",
      "[Epoch 36, Batch     1] loss: 0.000105390\n",
      "[Epoch 36, Batch     2] loss: 0.000122816\n",
      "[Epoch 37, Batch     1] loss: 0.000176577\n",
      "[Epoch 37, Batch     2] loss: 0.000051093\n",
      "[Epoch 38, Batch     1] loss: 0.000205857\n",
      "[Epoch 38, Batch     2] loss: 0.000020061\n",
      "[Epoch 39, Batch     1] loss: 0.000055346\n",
      "[Epoch 39, Batch     2] loss: 0.000169500\n",
      "[Epoch 40, Batch     1] loss: 0.000018047\n",
      "[Epoch 40, Batch     2] loss: 0.000204976\n",
      "[Epoch 41, Batch     1] loss: 0.000097288\n",
      "[Epoch 41, Batch     2] loss: 0.000126831\n",
      "[Epoch 42, Batch     1] loss: 0.000102709\n",
      "[Epoch 42, Batch     2] loss: 0.000118205\n",
      "[Epoch 43, Batch     1] loss: 0.000146747\n",
      "[Epoch 43, Batch     2] loss: 0.000073321\n",
      "[Epoch 44, Batch     1] loss: 0.000118170\n",
      "[Epoch 44, Batch     2] loss: 0.000100337\n",
      "[Epoch 45, Batch     1] loss: 0.000100767\n",
      "[Epoch 45, Batch     2] loss: 0.000116358\n",
      "[Epoch 46, Batch     1] loss: 0.000116942\n",
      "[Epoch 46, Batch     2] loss: 0.000099146\n",
      "[Epoch 47, Batch     1] loss: 0.000144113\n",
      "[Epoch 47, Batch     2] loss: 0.000070938\n",
      "[Epoch 48, Batch     1] loss: 0.000018035\n",
      "[Epoch 48, Batch     2] loss: 0.000195348\n",
      "[Epoch 49, Batch     1] loss: 0.000167200\n",
      "[Epoch 49, Batch     2] loss: 0.000045993\n",
      "[Epoch 50, Batch     1] loss: 0.000061978\n",
      "[Epoch 50, Batch     2] loss: 0.000149928\n",
      "[Epoch 51, Batch     1] loss: 0.000018309\n",
      "[Epoch 51, Batch     2] loss: 0.000191714\n",
      "[Epoch 52, Batch     1] loss: 0.000103662\n",
      "[Epoch 52, Batch     2] loss: 0.000108232\n",
      "[Epoch 53, Batch     1] loss: 0.000097824\n",
      "[Epoch 53, Batch     2] loss: 0.000110281\n",
      "[Epoch 54, Batch     1] loss: 0.000111914\n",
      "[Epoch 54, Batch     2] loss: 0.000095333\n",
      "[Epoch 55, Batch     1] loss: 0.000105718\n",
      "[Epoch 55, Batch     2] loss: 0.000102852\n",
      "[Epoch 56, Batch     1] loss: 0.000044027\n",
      "[Epoch 56, Batch     2] loss: 0.000161087\n",
      "[Epoch 57, Batch     1] loss: 0.000100808\n",
      "[Epoch 57, Batch     2] loss: 0.000105199\n",
      "[Epoch 58, Batch     1] loss: 0.000057867\n",
      "[Epoch 58, Batch     2] loss: 0.000145364\n",
      "[Epoch 59, Batch     1] loss: 0.000093987\n",
      "[Epoch 59, Batch     2] loss: 0.000108029\n",
      "[Epoch 60, Batch     1] loss: 0.000058021\n",
      "[Epoch 60, Batch     2] loss: 0.000142934\n",
      "[Epoch 61, Batch     1] loss: 0.000100970\n",
      "[Epoch 61, Batch     2] loss: 0.000101702\n",
      "[Epoch 62, Batch     1] loss: 0.000095679\n",
      "[Epoch 62, Batch     2] loss: 0.000105599\n",
      "[Epoch 63, Batch     1] loss: 0.000093058\n",
      "[Epoch 63, Batch     2] loss: 0.000104740\n",
      "[Epoch 64, Batch     1] loss: 0.000149315\n",
      "[Epoch 64, Batch     2] loss: 0.000048459\n",
      "[Epoch 65, Batch     1] loss: 0.000095226\n",
      "[Epoch 65, Batch     2] loss: 0.000102452\n",
      "[Epoch 66, Batch     1] loss: 0.000085896\n",
      "[Epoch 66, Batch     2] loss: 0.000110865\n",
      "[Epoch 67, Batch     1] loss: 0.000098568\n",
      "[Epoch 67, Batch     2] loss: 0.000097693\n",
      "[Epoch 68, Batch     1] loss: 0.000143964\n",
      "[Epoch 68, Batch     2] loss: 0.000049437\n",
      "[Epoch 69, Batch     1] loss: 0.000000823\n",
      "[Epoch 69, Batch     2] loss: 0.000190826\n",
      "[Epoch 70, Batch     1] loss: 0.000047315\n",
      "[Epoch 70, Batch     2] loss: 0.000144072\n",
      "[Epoch 71, Batch     1] loss: 0.000085395\n",
      "[Epoch 71, Batch     2] loss: 0.000104586\n",
      "[Epoch 72, Batch     1] loss: 0.000126717\n",
      "[Epoch 72, Batch     2] loss: 0.000062692\n",
      "[Epoch 73, Batch     1] loss: 0.000055817\n",
      "[Epoch 73, Batch     2] loss: 0.000132853\n",
      "[Epoch 74, Batch     1] loss: 0.000049806\n",
      "[Epoch 74, Batch     2] loss: 0.000138185\n",
      "[Epoch 75, Batch     1] loss: 0.000062454\n",
      "[Epoch 75, Batch     2] loss: 0.000124226\n",
      "[Epoch 76, Batch     1] loss: 0.000098198\n",
      "[Epoch 76, Batch     2] loss: 0.000087314\n",
      "[Epoch 77, Batch     1] loss: 0.000137601\n",
      "[Epoch 77, Batch     2] loss: 0.000047709\n",
      "[Epoch 78, Batch     1] loss: 0.000168658\n",
      "[Epoch 78, Batch     2] loss: 0.000015270\n",
      "[Epoch 79, Batch     1] loss: 0.000089650\n",
      "[Epoch 79, Batch     2] loss: 0.000095112\n",
      "[Epoch 80, Batch     1] loss: 0.000079056\n",
      "[Epoch 80, Batch     2] loss: 0.000104443\n",
      "[Epoch 81, Batch     1] loss: 0.000085586\n",
      "[Epoch 81, Batch     2] loss: 0.000095481\n",
      "[Epoch 82, Batch     1] loss: 0.000046553\n",
      "[Epoch 82, Batch     2] loss: 0.000134169\n",
      "[Epoch 83, Batch     1] loss: 0.000077734\n",
      "[Epoch 83, Batch     2] loss: 0.000103215\n",
      "[Epoch 84, Batch     1] loss: 0.000082905\n",
      "[Epoch 84, Batch     2] loss: 0.000095827\n",
      "[Epoch 85, Batch     1] loss: 0.000057032\n",
      "[Epoch 85, Batch     2] loss: 0.000120902\n",
      "[Epoch 86, Batch     1] loss: 0.000050931\n",
      "[Epoch 86, Batch     2] loss: 0.000126586\n",
      "[Epoch 87, Batch     1] loss: 0.000080165\n",
      "[Epoch 87, Batch     2] loss: 0.000096041\n",
      "[Epoch 88, Batch     1] loss: 0.000080963\n",
      "[Epoch 88, Batch     2] loss: 0.000094516\n",
      "[Epoch 89, Batch     1] loss: 0.000082083\n",
      "[Epoch 89, Batch     2] loss: 0.000092526\n",
      "[Epoch 90, Batch     1] loss: 0.000042096\n",
      "[Epoch 90, Batch     2] loss: 0.000132048\n",
      "[Epoch 91, Batch     1] loss: 0.000092634\n",
      "[Epoch 91, Batch     2] loss: 0.000080438\n",
      "[Epoch 92, Batch     1] loss: 0.000130022\n",
      "[Epoch 92, Batch     2] loss: 0.000042740\n",
      "[Epoch 93, Batch     1] loss: 0.000094611\n",
      "[Epoch 93, Batch     2] loss: 0.000076840\n",
      "[Epoch 94, Batch     1] loss: 0.000044635\n",
      "[Epoch 94, Batch     2] loss: 0.000126542\n",
      "[Epoch 95, Batch     1] loss: 0.000129546\n",
      "[Epoch 95, Batch     2] loss: 0.000040916\n",
      "[Epoch 96, Batch     1] loss: 0.000057664\n",
      "[Epoch 96, Batch     2] loss: 0.000111750\n",
      "[Epoch 97, Batch     1] loss: 0.000082893\n",
      "[Epoch 97, Batch     2] loss: 0.000087211\n",
      "[Epoch 98, Batch     1] loss: 0.000089713\n",
      "[Epoch 98, Batch     2] loss: 0.000078234\n",
      "[Epoch 99, Batch     1] loss: 0.000053075\n",
      "[Epoch 99, Batch     2] loss: 0.000113991\n",
      "[Epoch 100, Batch     1] loss: 0.000128139\n",
      "[Epoch 100, Batch     2] loss: 0.000038415\n",
      "Done Training!\n"
     ]
    }
   ],
   "source": [
    "print(\"Start Training...\")\n",
    "loss_list = []\n",
    "for epoch in range(100):\n",
    "    # 我们用一个变量来记录每100个batch的平均loss\n",
    "    loss100 = 0.0\n",
    "    # 我们的dataloader派上了用场\n",
    "    for i, data in enumerate(trainloader):\n",
    "        inputs, labels = data\n",
    "        inputs, labels = inputs, labels # 注意需要复制到GPU\n",
    "        optimizer.zero_grad()\n",
    "        outputs = net(inputs)\n",
    "        loss = criterion(outputs, labels)\n",
    "        loss.backward()\n",
    "        optimizer.step()\n",
    "        loss100 += loss.item()\n",
    "        if i % 1 == 0:\n",
    "            print('[Epoch %d, Batch %5d] loss: %.9f' %\n",
    "                  (epoch + 1, i + 1, loss100 / 1))\n",
    "            loss_list.append(loss100/1)\n",
    "            loss100 = 0.0\n",
    "    # print(epoch)\n",
    "print(\"Done Training!\")"
   ],
   "metadata": {
    "collapsed": false
   }
  },
  {
   "cell_type": "code",
   "execution_count": 150,
   "outputs": [
    {
     "data": {
      "text/plain": "[<matplotlib.lines.Line2D at 0x220aad83f70>]"
     },
     "execution_count": 150,
     "metadata": {},
     "output_type": "execute_result"
    },
    {
     "data": {
      "text/plain": "<Figure size 640x480 with 1 Axes>",
      "image/png": "[encoded data removed]"
     },
     "metadata": {},
     "output_type": "display_data"
    }
   ],
   "source": [
    "plt.plot(loss_list)"
   ],
   "metadata": {
    "collapsed": false
   }
  },
  {
   "cell_type": "code",
   "execution_count": 152,
   "outputs": [
    {
     "name": "stdout",
     "output_type": "stream",
     "text": [
      "tensor([[13.2963, -9.6568],\n",
      "        [-6.0577,  9.2940],\n",
      "        [11.8118, -8.6553],\n",
      "        [-4.7089, 10.3876],\n",
      "        [ 0.9062,  6.0035],\n",
      "        [12.5504, -9.0928]])\n",
      "tensor([0, 1, 0, 1, 1, 0])\n",
      "tensor([[0., 1.],\n",
      "        [0., 1.],\n",
      "        [0., 1.],\n",
      "        [0., 1.],\n",
      "        [0., 1.],\n",
      "        [1., 0.]])\n",
      "0.6666666666666666\n"
     ]
    }
   ],
   "source": [
    "def test():\n",
    "    net.eval()\n",
    "    correct = 0.0\n",
    "    test_loss = 0.0\n",
    "    with torch.no_grad():\n",
    "        for Data, Label in testloader:\n",
    "            Data = Data\n",
    "            Label = Label\n",
    "            test_output = net(Data)\n",
    "            print(test_output)\n",
    "            loss = criterion(test_output, Label)\n",
    "            pred = torch.max(test_output, 1)[1]\n",
    "            print(pred)\n",
    "            print(Label)\n",
    "            test_correct = (pred == torch.argmax(Label, 1)).sum()\n",
    "            correct = correct + test_correct.item()\n",
    "            test_loss = test_loss + loss.item()\n",
    "    print(correct/len(X_test))\n",
    "test()"
   ],
   "metadata": {
    "collapsed": false
   }
  },
  {
   "cell_type": "code",
   "execution_count": null,
   "outputs": [],
   "source": [],
   "metadata": {
    "collapsed": false
   }
  }
 ],
 "metadata": {
  "kernelspec": {
   "display_name": "Python 3",
   "language": "python",
   "name": "python3"
  },
  "language_info": {
   "codemirror_mode": {
    "name": "ipython",
    "version": 2
   },
   "file_extension": ".py",
   "mimetype": "text/x-python",
   "name": "python",
   "nbconvert_exporter": "python",
   "pygments_lexer": "ipython2",
   "version": "2.7.6"
  }
 },
 "nbformat": 4,
 "nbformat_minor": 0
}
