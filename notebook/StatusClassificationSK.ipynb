{
 "cells": [
  {
   "cell_type": "code",
   "execution_count": 209,
   "metadata": {
    "collapsed": true
   },
   "outputs": [],
   "source": [
    "from sklearn.model_selection import train_test_split\n",
    "import cv2\n",
    "import os\n",
    "import glob\n",
    "import numpy as np\n",
    "# from sklearn.ensemble import GradientBoostingClassifier\n",
    "import xgboost as xgb\n",
    "import joblib\n",
    "from sklearn.metrics import plot_confusion_matrix\n",
    "import matplotlib.pyplot as plt\n",
    "from mlxtend.plotting import plot_decision_regions\n",
    "\n",
    "WORKPATH = \"C:/Users/Johan/Documents/PycharmProjects/MaplestoryM-Assistant\"\n",
    "os.chdir(WORKPATH)"
   ]
  },
  {
   "cell_type": "code",
   "execution_count": 125,
   "outputs": [],
   "source": [
    "# target_size = (60, 65)\n",
    "#\n",
    "# def read_and_resize(path, target_size):\n",
    "#     return cv2.resize(cv2.imread(path), target_size)/255"
   ],
   "metadata": {
    "collapsed": false
   }
  },
  {
   "cell_type": "code",
   "execution_count": 167,
   "outputs": [],
   "source": [
    "# # # Execute Once\n",
    "# AutoBattleStatusRawList = glob.glob(\"./raw_data/US/Status/raw_data/AutoBattle/*.png\")\n",
    "# AutoQuestStatusRawList = glob.glob(\"./raw_data/US/Status/raw_data/AutoQuest/*.png\")\n",
    "#\n",
    "# for i in range(len(AutoBattleStatusRawList)):\n",
    "#     img = cv2.imread(AutoBattleStatusRawList[i])\n",
    "#     img = img[625:685, 390:455]\n",
    "#     img = cv2.resize(img, target_size)\n",
    "#     cv2.imwrite(\"./raw_data/US/Status/data/AutoBattle/\"+str(i)+\".png\", img)\n",
    "#\n",
    "# for i in range(len(AutoQuestStatusRawList)):\n",
    "#     img = cv2.imread(AutoQuestStatusRawList[i])\n",
    "#     img = img[625:685, 390:455]\n",
    "#     img = cv2.resize(img, target_size)\n",
    "#     cv2.imwrite(\"./raw_data/US/Status/data/AutoQuest/\"+str(i)+\".png\", img)"
   ],
   "metadata": {
    "collapsed": false
   }
  },
  {
   "cell_type": "code",
   "execution_count": 168,
   "outputs": [
    {
     "name": "stdout",
     "output_type": "stream",
     "text": [
      "Data Size: 485\n",
      "(485, 3900)\n"
     ]
    }
   ],
   "source": [
    "img_path_list = glob.glob(\"./raw_data/US/status/data/*/*.*\", recursive=True)\n",
    "print(f\"Data Size: {len(img_path_list)}\")\n",
    "img_cls = [os.path.basename(os.path.dirname(i)) for i in img_path_list]\n",
    "classes = list(np.unique(img_cls))\n",
    "Y = np.zeros((len(img_cls), len(classes)))\n",
    "\n",
    "for r in range(len(img_cls)):\n",
    "    Y[r, classes.index(img_cls[r])] = 1\n",
    "\n",
    "X_img = []\n",
    "for i in img_path_list:\n",
    "    img = cv2.imread(i, 0)\n",
    "    X_img.append(img)\n",
    "X_img = np.array(X_img)\n",
    "X_img = X_img.reshape(len(X_img), -1)\n",
    "print(X_img.shape)"
   ],
   "metadata": {
    "collapsed": false
   }
  },
  {
   "cell_type": "code",
   "execution_count": 185,
   "outputs": [
    {
     "name": "stdout",
     "output_type": "stream",
     "text": [
      "339 146 339 146\n"
     ]
    }
   ],
   "source": [
    "X_train, X_test, y_train, y_test = train_test_split(X_img, img_cls, stratify=img_cls, test_size=0.3, random_state=3)\n",
    "print(len(X_train), len(X_test), len(y_train), len(y_test))"
   ],
   "metadata": {
    "collapsed": false
   }
  },
  {
   "cell_type": "code",
   "execution_count": 186,
   "outputs": [
    {
     "name": "stdout",
     "output_type": "stream",
     "text": [
      "280 59\n",
      "121 25\n"
     ]
    }
   ],
   "source": [
    "AutoQuestNum = 0\n",
    "AutoBattleNum = 0\n",
    "for y_train_item in y_train:\n",
    "    if y_train_item == \"AutoQuest\":\n",
    "        AutoQuestNum += 1\n",
    "    else:\n",
    "        AutoBattleNum+=1\n",
    "print(AutoQuestNum, AutoBattleNum)\n",
    "\n",
    "AutoQuestNum = 0\n",
    "AutoBattleNum = 0\n",
    "for y_test_item in y_test:\n",
    "    if y_test_item == \"AutoQuest\":\n",
    "        AutoQuestNum += 1\n",
    "    else:\n",
    "        AutoBattleNum+=1\n",
    "print(AutoQuestNum, AutoBattleNum)"
   ],
   "metadata": {
    "collapsed": false
   }
  },
  {
   "cell_type": "code",
   "execution_count": 213,
   "outputs": [
    {
     "data": {
      "text/plain": "GradientBoostingClassifier()",
      "text/html": "<style>#sk-container-id-29 {color: black;background-color: white;}#sk-container-id-29 pre{padding: 0;}#sk-container-id-29 div.sk-toggleable {background-color: white;}#sk-container-id-29 label.sk-toggleable__label {cursor: pointer;display: block;width: 100%;margin-bottom: 0;padding: 0.3em;box-sizing: border-box;text-align: center;}#sk-container-id-29 label.sk-toggleable__label-arrow:before {content: \"▸\";float: left;margin-right: 0.25em;color: #696969;}#sk-container-id-29 label.sk-toggleable__label-arrow:hover:before {color: black;}#sk-container-id-29 div.sk-estimator:hover label.sk-toggleable__label-arrow:before {color: black;}#sk-container-id-29 div.sk-toggleable__content {max-height: 0;max-width: 0;overflow: hidden;text-align: left;background-color: #f0f8ff;}#sk-container-id-29 div.sk-toggleable__content pre {margin: 0.2em;color: black;border-radius: 0.25em;background-color: #f0f8ff;}#sk-container-id-29 input.sk-toggleable__control:checked~div.sk-toggleable__content {max-height: 200px;max-width: 100%;overflow: auto;}#sk-container-id-29 input.sk-toggleable__control:checked~label.sk-toggleable__label-arrow:before {content: \"▾\";}#sk-container-id-29 div.sk-estimator input.sk-toggleable__control:checked~label.sk-toggleable__label {background-color: #d4ebff;}#sk-container-id-29 div.sk-label input.sk-toggleable__control:checked~label.sk-toggleable__label {background-color: #d4ebff;}#sk-container-id-29 input.sk-hidden--visually {border: 0;clip: rect(1px 1px 1px 1px);clip: rect(1px, 1px, 1px, 1px);height: 1px;margin: -1px;overflow: hidden;padding: 0;position: absolute;width: 1px;}#sk-container-id-29 div.sk-estimator {font-family: monospace;background-color: #f0f8ff;border: 1px dotted black;border-radius: 0.25em;box-sizing: border-box;margin-bottom: 0.5em;}#sk-container-id-29 div.sk-estimator:hover {background-color: #d4ebff;}#sk-container-id-29 div.sk-parallel-item::after {content: \"\";width: 100%;border-bottom: 1px solid gray;flex-grow: 1;}#sk-container-id-29 div.sk-label:hover label.sk-toggleable__label {background-color: #d4ebff;}#sk-container-id-29 div.sk-serial::before {content: \"\";position: absolute;border-left: 1px solid gray;box-sizing: border-box;top: 0;bottom: 0;left: 50%;z-index: 0;}#sk-container-id-29 div.sk-serial {display: flex;flex-direction: column;align-items: center;background-color: white;padding-right: 0.2em;padding-left: 0.2em;position: relative;}#sk-container-id-29 div.sk-item {position: relative;z-index: 1;}#sk-container-id-29 div.sk-parallel {display: flex;align-items: stretch;justify-content: center;background-color: white;position: relative;}#sk-container-id-29 div.sk-item::before, #sk-container-id-29 div.sk-parallel-item::before {content: \"\";position: absolute;border-left: 1px solid gray;box-sizing: border-box;top: 0;bottom: 0;left: 50%;z-index: -1;}#sk-container-id-29 div.sk-parallel-item {display: flex;flex-direction: column;z-index: 1;position: relative;background-color: white;}#sk-container-id-29 div.sk-parallel-item:first-child::after {align-self: flex-end;width: 50%;}#sk-container-id-29 div.sk-parallel-item:last-child::after {align-self: flex-start;width: 50%;}#sk-container-id-29 div.sk-parallel-item:only-child::after {width: 0;}#sk-container-id-29 div.sk-dashed-wrapped {border: 1px dashed gray;margin: 0 0.4em 0.5em 0.4em;box-sizing: border-box;padding-bottom: 0.4em;background-color: white;}#sk-container-id-29 div.sk-label label {font-family: monospace;font-weight: bold;display: inline-block;line-height: 1.2em;}#sk-container-id-29 div.sk-label-container {text-align: center;}#sk-container-id-29 div.sk-container {/* jupyter's `normalize.less` sets `[hidden] { display: none; }` but bootstrap.min.css set `[hidden] { display: none !important; }` so we also need the `!important` here to be able to override the default hidden behavior on the sphinx rendered scikit-learn.org. See: https://github.com/scikit-learn/scikit-learn/issues/21755 */display: inline-block !important;position: relative;}#sk-container-id-29 div.sk-text-repr-fallback {display: none;}</style><div id=\"sk-container-id-29\" class=\"sk-top-container\"><div class=\"sk-text-repr-fallback\"><pre>GradientBoostingClassifier()</pre><b>In a Jupyter environment, please rerun this cell to show the HTML representation or trust the notebook. <br />On GitHub, the HTML representation is unable to render, please try loading this page with nbviewer.org.</b></div><div class=\"sk-container\" hidden><div class=\"sk-item\"><div class=\"sk-estimator sk-toggleable\"><input class=\"sk-toggleable__control sk-hidden--visually\" id=\"sk-estimator-id-29\" type=\"checkbox\" checked><label for=\"sk-estimator-id-29\" class=\"sk-toggleable__label sk-toggleable__label-arrow\">GradientBoostingClassifier</label><div class=\"sk-toggleable__content\"><pre>GradientBoostingClassifier()</pre></div></div></div></div></div>"
     },
     "execution_count": 213,
     "metadata": {},
     "output_type": "execute_result"
    }
   ],
   "source": [
    "from sklearn.svm import SVC\n",
    "\n",
    "# model = xgb.XGBClassifier()\n",
    "model = GradientBoostingClassifier()\n",
    "# model = SVC()\n",
    "model.fit(X_train, y_train)"
   ],
   "metadata": {
    "collapsed": false
   }
  },
  {
   "cell_type": "code",
   "execution_count": 215,
   "outputs": [
    {
     "data": {
      "text/plain": "1.0"
     },
     "execution_count": 215,
     "metadata": {},
     "output_type": "execute_result"
    }
   ],
   "source": [
    "model.score(X_test, y_test)"
   ],
   "metadata": {
    "collapsed": false
   }
  },
  {
   "cell_type": "code",
   "execution_count": 216,
   "outputs": [
    {
     "data": {
      "text/plain": "array(['AutoQuest', 'AutoQuest', 'AutoQuest', 'AutoBattle', 'AutoQuest',\n       'AutoQuest', 'AutoQuest', 'AutoQuest', 'AutoQuest', 'AutoQuest',\n       'AutoQuest', 'AutoQuest', 'AutoBattle', 'AutoQuest', 'AutoQuest',\n       'AutoQuest', 'AutoQuest', 'AutoBattle', 'AutoQuest', 'AutoQuest',\n       'AutoQuest', 'AutoQuest', 'AutoBattle', 'AutoBattle', 'AutoBattle',\n       'AutoQuest', 'AutoBattle', 'AutoQuest', 'AutoBattle', 'AutoQuest',\n       'AutoQuest', 'AutoQuest', 'AutoQuest', 'AutoQuest', 'AutoQuest',\n       'AutoBattle', 'AutoQuest', 'AutoQuest', 'AutoQuest', 'AutoQuest',\n       'AutoQuest', 'AutoQuest', 'AutoQuest', 'AutoQuest', 'AutoQuest',\n       'AutoQuest', 'AutoQuest', 'AutoQuest', 'AutoQuest', 'AutoQuest',\n       'AutoQuest', 'AutoQuest', 'AutoQuest', 'AutoQuest', 'AutoQuest',\n       'AutoQuest', 'AutoBattle', 'AutoQuest', 'AutoQuest', 'AutoQuest',\n       'AutoQuest', 'AutoQuest', 'AutoQuest', 'AutoQuest', 'AutoQuest',\n       'AutoQuest', 'AutoQuest', 'AutoBattle', 'AutoQuest', 'AutoQuest',\n       'AutoBattle', 'AutoQuest', 'AutoQuest', 'AutoQuest', 'AutoQuest',\n       'AutoQuest', 'AutoQuest', 'AutoQuest', 'AutoQuest', 'AutoQuest',\n       'AutoQuest', 'AutoQuest', 'AutoQuest', 'AutoQuest', 'AutoBattle',\n       'AutoQuest', 'AutoQuest', 'AutoBattle', 'AutoQuest', 'AutoQuest',\n       'AutoQuest', 'AutoQuest', 'AutoQuest', 'AutoQuest', 'AutoQuest',\n       'AutoQuest', 'AutoQuest', 'AutoQuest', 'AutoQuest', 'AutoQuest',\n       'AutoQuest', 'AutoQuest', 'AutoQuest', 'AutoQuest', 'AutoQuest',\n       'AutoBattle', 'AutoBattle', 'AutoQuest', 'AutoQuest', 'AutoBattle',\n       'AutoQuest', 'AutoQuest', 'AutoBattle', 'AutoQuest', 'AutoBattle',\n       'AutoQuest', 'AutoQuest', 'AutoBattle', 'AutoQuest', 'AutoBattle',\n       'AutoQuest', 'AutoQuest', 'AutoQuest', 'AutoQuest', 'AutoQuest',\n       'AutoQuest', 'AutoQuest', 'AutoQuest', 'AutoQuest', 'AutoQuest',\n       'AutoQuest', 'AutoQuest', 'AutoQuest', 'AutoQuest', 'AutoBattle',\n       'AutoQuest', 'AutoQuest', 'AutoQuest', 'AutoQuest', 'AutoBattle',\n       'AutoQuest', 'AutoQuest', 'AutoBattle', 'AutoQuest', 'AutoQuest',\n       'AutoBattle'], dtype='<U10')"
     },
     "execution_count": 216,
     "metadata": {},
     "output_type": "execute_result"
    }
   ],
   "source": [
    "model.predict(X_test)"
   ],
   "metadata": {
    "collapsed": false
   }
  },
  {
   "cell_type": "code",
   "execution_count": 217,
   "outputs": [
    {
     "name": "stderr",
     "output_type": "stream",
     "text": [
      "C:\\Users\\Johan\\anaconda3\\envs\\maplestory\\lib\\site-packages\\sklearn\\utils\\deprecation.py:87: FutureWarning: Function plot_confusion_matrix is deprecated; Function `plot_confusion_matrix` is deprecated in 1.0 and will be removed in 1.2. Use one of the class methods: ConfusionMatrixDisplay.from_predictions or ConfusionMatrixDisplay.from_estimator.\n",
      "  warnings.warn(msg, category=FutureWarning)\n"
     ]
    },
    {
     "data": {
      "text/plain": "<Figure size 640x480 with 2 Axes>",
      "image/png": "[encoded data removed]"
     },
     "metadata": {},
     "output_type": "display_data"
    }
   ],
   "source": [
    "matrix = plot_confusion_matrix(model, X_test, y_test,\n",
    "                                 cmap=plt.cm.Reds,\n",
    "                                 normalize='true')\n",
    "plt.title('Confusion matrix for our classifier')\n",
    "plt.show(matrix)\n",
    "plt.show()"
   ],
   "metadata": {
    "collapsed": false
   }
  },
  {
   "cell_type": "code",
   "execution_count": 218,
   "outputs": [],
   "source": [
    "# y_test_int = []\n",
    "# for item in y_test:\n",
    "#     if item == \"AutoQuest\":\n",
    "#         y_test_int.append(0)\n",
    "#     else:\n",
    "#         y_test_int.append(1)\n",
    "# # Get support vectors\n",
    "# support_vectors = model.support_vectors_\n",
    "# # Visualize support vectors\n",
    "# plt.scatter(X_train[:,0], X_train[:,1])\n",
    "# plt.scatter(support_vectors[:,0], support_vectors[:,1], color='red')\n",
    "# plt.title('Linearly separable data with support vectors')\n",
    "# plt.xlabel('X1')\n",
    "# plt.ylabel('X2')\n",
    "# plt.show()\n",
    "# # Plot decision boundary\n",
    "# plot_decision_regions(X_test, np.array(y_test_int), clf=model, legend=2)\n",
    "# plt.show()"
   ],
   "metadata": {
    "collapsed": false
   }
  },
  {
   "cell_type": "code",
   "execution_count": 219,
   "outputs": [
    {
     "data": {
      "text/plain": "['./output/ckpt/status-predictor.pkl']"
     },
     "execution_count": 219,
     "metadata": {},
     "output_type": "execute_result"
    }
   ],
   "source": [
    "joblib.dump(model, \"./output/ckpt/status-predictor.pkl\")"
   ],
   "metadata": {
    "collapsed": false
   }
  }
 ],
 "metadata": {
  "kernelspec": {
   "display_name": "Python 3",
   "language": "python",
   "name": "python3"
  },
  "language_info": {
   "codemirror_mode": {
    "name": "ipython",
    "version": 2
   },
   "file_extension": ".py",
   "mimetype": "text/x-python",
   "name": "python",
   "nbconvert_exporter": "python",
   "pygments_lexer": "ipython2",
   "version": "2.7.6"
  }
 },
 "nbformat": 4,
 "nbformat_minor": 0
}
